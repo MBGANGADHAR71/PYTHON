{
  "cells": [
    {
      "cell_type": "code",
      "execution_count": null,
      "metadata": {
        "id": "Psmr-edb1uHg"
      },
      "outputs": [],
      "source": [
        "class Book:#class Name of the class\n",
        "#intializations -_init_\n",
        " def __init__(self,title,quantity,author,price):\n",
        "#variables that are used in different methods are intialized in the _init_ method\n",
        "  self.title=title\n",
        "  self.quantity=quantity\n",
        "  self.author=author\n",
        "  self.price=price\n",
        "  self.__discount=0.15\n",
        "#two underscore to encapsulate\n",
        "#to access this getter and setter methods\n",
        "\n",
        "#setter method _to modify the hidden variable\n",
        " def set_discount(self,discount):\n",
        "  self.__discount=discount\n",
        "\n",
        "##getter methods\n",
        " def get_price(self):\n",
        "  return self.price*(1-self.__discount)\n",
        "\n",
        "\n",
        " def printtitle(self):\n",
        "  print(self.title)\n",
        " def __repr__(self):#used for print statements\n",
        "  #when you give directly it will give memory location\n",
        "  return f\"Book:{self.title},quantity:{self.quantity},discount:{self.__discount}\"\n",
        "  #book.title"
      ]
    },
    {
      "cell_type": "code",
      "execution_count": null,
      "metadata": {
        "id": "exsh6hLqH6V9"
      },
      "outputs": [],
      "source": [
        "\n",
        "#setter method _to modify the hidden variable\n",
        " def set_discount(self,discount):\n",
        "  self.__discount=discount\n",
        "\n",
        "##getter methods\n",
        " def get_price(self):\n",
        "  return self.price*(1-self.__discount)"
      ]
    },
    {
      "cell_type": "code",
      "execution_count": null,
      "metadata": {
        "colab": {
          "base_uri": "https://localhost:8080/",
          "height": 236
        },
        "id": "dvGQ7pqL7jOY",
        "outputId": "78338728-4c91-4f60-db47-129d03db2f05"
      },
      "outputs": [
        {
          "name": "stdout",
          "output_type": "stream",
          "text": [
            "Moon light\n"
          ]
        },
        {
          "ename": "AttributeError",
          "evalue": "ignored",
          "output_type": "error",
          "traceback": [
            "\u001b[0;31m---------------------------------------------------------------------------\u001b[0m",
            "\u001b[0;31mAttributeError\u001b[0m                            Traceback (most recent call last)",
            "\u001b[0;32m<ipython-input-28-6cf6c9a37156>\u001b[0m in \u001b[0;36m<cell line: 3>\u001b[0;34m()\u001b[0m\n\u001b[1;32m      1\u001b[0m \u001b[0mbook\u001b[0m\u001b[0;34m=\u001b[0m\u001b[0mBook\u001b[0m\u001b[0;34m(\u001b[0m\u001b[0;34m\"Moon light\"\u001b[0m\u001b[0;34m,\u001b[0m\u001b[0;36m40\u001b[0m\u001b[0;34m,\u001b[0m\u001b[0;34m\"williams\"\u001b[0m\u001b[0;34m,\u001b[0m\u001b[0;36m150\u001b[0m\u001b[0;34m)\u001b[0m\u001b[0;34m\u001b[0m\u001b[0;34m\u001b[0m\u001b[0m\n\u001b[1;32m      2\u001b[0m \u001b[0mbook\u001b[0m\u001b[0;34m.\u001b[0m\u001b[0mprinttitle\u001b[0m\u001b[0;34m(\u001b[0m\u001b[0;34m)\u001b[0m\u001b[0;34m\u001b[0m\u001b[0;34m\u001b[0m\u001b[0m\n\u001b[0;32m----> 3\u001b[0;31m \u001b[0mbook\u001b[0m\u001b[0;34m.\u001b[0m\u001b[0mget_price\u001b[0m\u001b[0;34m(\u001b[0m\u001b[0;34m)\u001b[0m\u001b[0;34m\u001b[0m\u001b[0;34m\u001b[0m\u001b[0m\n\u001b[0m",
            "\u001b[0;31mAttributeError\u001b[0m: 'Book' object has no attribute 'get_price'"
          ]
        }
      ],
      "source": [
        "book=Book(\"Moon light\",40,\"williams\",150)\n",
        "book.printtitle()\n",
        "book.get_price()"
      ]
    },
    {
      "cell_type": "code",
      "execution_count": null,
      "metadata": {
        "colab": {
          "base_uri": "https://localhost:8080/"
        },
        "id": "qI0PCE4Q5PYs",
        "outputId": "eaf63a74-7ba1-4629-c1e4-51238badd971"
      },
      "outputs": [
        {
          "name": "stdout",
          "output_type": "stream",
          "text": [
            "Moon light\n",
            "Book:Moon light,quantity:40,discount:0.15\n"
          ]
        }
      ],
      "source": [
        "book=Book(\"Moon light\",40,\"williams\",150)\n",
        "print(book.title)\n",
        "print(book)\n"
      ]
    },
    {
      "cell_type": "markdown",
      "metadata": {
        "id": "_yRfDdhZ6yry"
      },
      "source": [
        "Encapsulation\n"
      ]
    },
    {
      "cell_type": "code",
      "execution_count": null,
      "metadata": {
        "colab": {
          "base_uri": "https://localhost:8080/",
          "height": 175
        },
        "id": "nhpx6Hv06yLw",
        "outputId": "425f1fa4-346a-42dd-d1c8-ba8b56cab514"
      },
      "outputs": [
        {
          "ename": "TypeError",
          "evalue": "ignored",
          "output_type": "error",
          "traceback": [
            "\u001b[0;31m---------------------------------------------------------------------------\u001b[0m",
            "\u001b[0;31mTypeError\u001b[0m                                 Traceback (most recent call last)",
            "\u001b[0;32m<ipython-input-24-d15f2a6f06f8>\u001b[0m in \u001b[0;36m<cell line: 1>\u001b[0;34m()\u001b[0m\n\u001b[0;32m----> 1\u001b[0;31m \u001b[0mbook\u001b[0m\u001b[0;34m.\u001b[0m\u001b[0mtitle\u001b[0m\u001b[0;34m(\u001b[0m\u001b[0;34m)\u001b[0m\u001b[0;34m\u001b[0m\u001b[0;34m\u001b[0m\u001b[0m\n\u001b[0m",
            "\u001b[0;31mTypeError\u001b[0m: 'str' object is not callable"
          ]
        }
      ],
      "source": []
    },
    {
      "cell_type": "code",
      "execution_count": null,
      "metadata": {
        "id": "oRTFtmG28AL_"
      },
      "outputs": [],
      "source": []
    },
    {
      "cell_type": "code",
      "execution_count": null,
      "metadata": {
        "colab": {
          "base_uri": "https://localhost:8080/"
        },
        "id": "xzwWD7qN8ned",
        "outputId": "32969107-c3e0-47da-d8d2-ee78f113946e"
      },
      "outputs": [
        {
          "data": {
            "text/plain": [
              "160.0"
            ]
          },
          "execution_count": 31,
          "metadata": {},
          "output_type": "execute_result"
        }
      ],
      "source": [
        "#setter method _to modify the hidden variable\n",
        "book=Book(\"Two states\",1,\"Chethan Bhagath\",200)\n",
        "book.set_discount(0.2)\n",
        "book.get_price()"
      ]
    },
    {
      "cell_type": "code",
      "execution_count": null,
      "metadata": {
        "id": "xAizgRo0-M1v"
      },
      "outputs": [],
      "source": [
        "#homework\n",
        "'''\n",
        "Super Market\n",
        "(vegetables,fruits,choclates)-quantites,prices,discount\n",
        "set for discount\n",
        "get the price\n",
        " '''\n"
      ]
    },
    {
      "cell_type": "code",
      "execution_count": null,
      "metadata": {
        "id": "5rqALEErIveW"
      },
      "outputs": [],
      "source": [
        "class Supermarket:\n",
        "  def __init__(self,veg_price,veg_quantity,fruits_price,fruits_quantity,choco_price,choco_quantity):\n",
        "    self.veg_price=veg_price\n",
        "    self.veg_quantity=veg_quantity\n",
        "    self.fruits_quantity=fruits_quantity\n",
        "    self.fruits_price=fruits_price\n",
        "    self.choco_price=choco_price\n",
        "    self.choco_quantity=choco_quantity\n",
        "    self.__discount_veg=0.2\n",
        "    self.__discount_fruits=0.1\n",
        "    self.__discount_choco=0.25\n",
        "\n",
        "  def set_discount(self,discount_veg,discount_fruits,discount_choco):\n",
        "    self.__discount_veg=discount_veg\n",
        "    self.__discount_fruits=discount_fruits\n",
        "    self.__discount_choco=discount_choco\n",
        "\n",
        "  def get_price(self):\n",
        "    self.cost_vegprice=(self.veg_price)*(self.veg_quantity)*(1-self.__discount_veg)\n",
        "    self.cost_fruitsprice=(self.fruits_price)*(self.fruits_quantity)*(1-self.__discount_fruits)\n",
        "    self.cost_chocoprice=(self.choco_price)*(self.choco_quantity)*(1-self.__discount_choco)\n",
        "    return f'cost price on veg: {self.cost_vegprice},cost price on fruits:{self.cost_fruitsprice},cost price on choco;{self.cost_chocoprice}'\n",
        "\n",
        "  def  __repr__(self):\n",
        "    return f'cost price of veg,fruits,choco{self.cost_vegprice},{self.cost_fruitsprice}{self.cost_chocoprice}'\n",
        "\n"
      ]
    },
    {
      "cell_type": "code",
      "execution_count": null,
      "metadata": {
        "colab": {
          "base_uri": "https://localhost:8080/",
          "height": 36
        },
        "id": "nKptSiTxNysu",
        "outputId": "bf2030ac-25e1-4935-824a-608da88ad0b7"
      },
      "outputs": [
        {
          "data": {
            "application/vnd.google.colaboratory.intrinsic+json": {
              "type": "string"
            },
            "text/plain": [
              "'cost price on veg: 80.0,cost price on fruits:216.0,cost price on choco;60.0'"
            ]
          },
          "execution_count": 37,
          "metadata": {},
          "output_type": "execute_result"
        }
      ],
      "source": [
        "market1=Supermarket(50,2,80,3,20,4)\n",
        "market1.get_price()"
      ]
    },
    {
      "cell_type": "code",
      "execution_count": null,
      "metadata": {
        "colab": {
          "background_save": true
        },
        "id": "qrfkddTzYrQ4",
        "outputId": "2ab830f7-ff3f-419d-f0e7-d1e34edb01ff"
      },
      "outputs": [
        {
          "name": "stdout",
          "output_type": "stream",
          "text": [
            "<__main__.Supermarket object at 0x79bebd7b3160>\n"
          ]
        }
      ],
      "source": []
    }
  ],
  "metadata": {
    "colab": {
      "provenance": []
    },
    "kernelspec": {
      "display_name": "Python 3",
      "name": "python3"
    },
    "language_info": {
      "name": "python"
    }
  },
  "nbformat": 4,
  "nbformat_minor": 0
}